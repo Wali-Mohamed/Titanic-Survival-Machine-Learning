{
 "cells": [
  {
   "cell_type": "code",
   "execution_count": 1,
   "id": "3ce890e8",
   "metadata": {
    "_cell_guid": "b1076dfc-b9ad-4769-8c92-a6c4dae69d19",
    "_uuid": "8f2839f25d086af736a60e9eeb907d3b93b6e0e5",
    "execution": {
     "iopub.execute_input": "2022-12-19T00:38:46.033777Z",
     "iopub.status.busy": "2022-12-19T00:38:46.033135Z",
     "iopub.status.idle": "2022-12-19T00:38:46.049186Z",
     "shell.execute_reply": "2022-12-19T00:38:46.046722Z"
    },
    "papermill": {
     "duration": 0.034795,
     "end_time": "2022-12-19T00:38:46.053435",
     "exception": false,
     "start_time": "2022-12-19T00:38:46.018640",
     "status": "completed"
    },
    "tags": []
   },
   "outputs": [
    {
     "name": "stdout",
     "output_type": "stream",
     "text": [
      "/kaggle/input/titanic/train.csv\n",
      "/kaggle/input/titanic/test.csv\n",
      "/kaggle/input/titanic/gender_submission.csv\n"
     ]
    }
   ],
   "source": [
    "# This Python 3 environment comes with many helpful analytics libraries installed\n",
    "# It is defined by the kaggle/python Docker image: https://github.com/kaggle/docker-python\n",
    "# For example, here's several helpful packages to load\n",
    "\n",
    "import numpy as np # linear algebra\n",
    "import pandas as pd # data processing, CSV file I/O (e.g. pd.read_csv)\n",
    "\n",
    "# Input data files are available in the read-only \"../input/\" directory\n",
    "# For example, running this (by clicking run or pressing Shift+Enter) will list all files under the input directory\n",
    "\n",
    "import os\n",
    "for dirname, _, filenames in os.walk('/kaggle/input'):\n",
    "    for filename in filenames:\n",
    "        print(os.path.join(dirname, filename))\n",
    "\n",
    "# You can write up to 20GB to the current directory (/kaggle/working/) that gets preserved as output when you create a version using \"Save & Run All\" \n",
    "# You can also write temporary files to /kaggle/temp/, but they won't be saved outside of the current session"
   ]
  },
  {
   "cell_type": "code",
   "execution_count": 2,
   "id": "f1b55692",
   "metadata": {
    "execution": {
     "iopub.execute_input": "2022-12-19T00:38:46.080171Z",
     "iopub.status.busy": "2022-12-19T00:38:46.079672Z",
     "iopub.status.idle": "2022-12-19T00:38:47.848173Z",
     "shell.execute_reply": "2022-12-19T00:38:47.847070Z"
    },
    "papermill": {
     "duration": 1.785947,
     "end_time": "2022-12-19T00:38:47.850950",
     "exception": false,
     "start_time": "2022-12-19T00:38:46.065003",
     "status": "completed"
    },
    "tags": []
   },
   "outputs": [],
   "source": [
    "\n",
    "import matplotlib.pyplot as plt\n",
    "import seaborn as sns\n",
    "from category_encoders import OneHotEncoder\n",
    "from sklearn.linear_model import LogisticRegression\n",
    "from sklearn.model_selection import train_test_split\n",
    "from sklearn.ensemble    import RandomForestClassifier\n",
    "from sklearn.metrics import confusion_matrix, classification_report"
   ]
  },
  {
   "cell_type": "markdown",
   "id": "818a69d3",
   "metadata": {
    "papermill": {
     "duration": 0.010421,
     "end_time": "2022-12-19T00:38:47.875485",
     "exception": false,
     "start_time": "2022-12-19T00:38:47.865064",
     "status": "completed"
    },
    "tags": []
   },
   "source": [
    "# Prepare Data"
   ]
  },
  {
   "cell_type": "markdown",
   "id": "4df89227",
   "metadata": {
    "papermill": {
     "duration": 0.010217,
     "end_time": "2022-12-19T00:38:47.896510",
     "exception": false,
     "start_time": "2022-12-19T00:38:47.886293",
     "status": "completed"
    },
    "tags": []
   },
   "source": [
    "## Import"
   ]
  },
  {
   "cell_type": "code",
   "execution_count": 3,
   "id": "4149619e",
   "metadata": {
    "execution": {
     "iopub.execute_input": "2022-12-19T00:38:47.924233Z",
     "iopub.status.busy": "2022-12-19T00:38:47.923786Z",
     "iopub.status.idle": "2022-12-19T00:38:47.931030Z",
     "shell.execute_reply": "2022-12-19T00:38:47.929672Z"
    },
    "papermill": {
     "duration": 0.022164,
     "end_time": "2022-12-19T00:38:47.933404",
     "exception": false,
     "start_time": "2022-12-19T00:38:47.911240",
     "status": "completed"
    },
    "tags": []
   },
   "outputs": [],
   "source": [
    "def wrangle(path):\n",
    "    #import data\n",
    "    df=pd.read_csv(path)\n",
    "    # drop irrelevant columns\n",
    "    df.drop(columns=['PassengerId','Name','Ticket','Cabin'], inplace=True)\n",
    "    # impute age null values\n",
    "    df['Age']=df[['Age','Pclass']].apply(impAge, axis=1)\n",
    "    # drop na\n",
    "    df.dropna(inplace=True)\n",
    "    return df\n",
    "    "
   ]
  },
  {
   "cell_type": "code",
   "execution_count": 4,
   "id": "25d2d7fa",
   "metadata": {
    "execution": {
     "iopub.execute_input": "2022-12-19T00:38:47.957065Z",
     "iopub.status.busy": "2022-12-19T00:38:47.956556Z",
     "iopub.status.idle": "2022-12-19T00:38:47.983344Z",
     "shell.execute_reply": "2022-12-19T00:38:47.981994Z"
    },
    "papermill": {
     "duration": 0.04142,
     "end_time": "2022-12-19T00:38:47.985790",
     "exception": false,
     "start_time": "2022-12-19T00:38:47.944370",
     "status": "completed"
    },
    "tags": []
   },
   "outputs": [
    {
     "data": {
      "text/plain": [
       "Index(['PassengerId', 'Survived', 'Pclass', 'Name', 'Sex', 'Age', 'SibSp',\n",
       "       'Parch', 'Ticket', 'Fare', 'Cabin', 'Embarked'],\n",
       "      dtype='object')"
      ]
     },
     "execution_count": 4,
     "metadata": {},
     "output_type": "execute_result"
    }
   ],
   "source": [
    "df=pd.read_csv('/kaggle/input/titanic/train.csv')\n",
    "df.columns"
   ]
  },
  {
   "cell_type": "code",
   "execution_count": 5,
   "id": "16102f64",
   "metadata": {
    "execution": {
     "iopub.execute_input": "2022-12-19T00:38:48.010401Z",
     "iopub.status.busy": "2022-12-19T00:38:48.009353Z",
     "iopub.status.idle": "2022-12-19T00:38:48.035262Z",
     "shell.execute_reply": "2022-12-19T00:38:48.033742Z"
    },
    "papermill": {
     "duration": 0.040838,
     "end_time": "2022-12-19T00:38:48.038006",
     "exception": false,
     "start_time": "2022-12-19T00:38:47.997168",
     "status": "completed"
    },
    "tags": []
   },
   "outputs": [
    {
     "data": {
      "text/html": [
       "<div>\n",
       "<style scoped>\n",
       "    .dataframe tbody tr th:only-of-type {\n",
       "        vertical-align: middle;\n",
       "    }\n",
       "\n",
       "    .dataframe tbody tr th {\n",
       "        vertical-align: top;\n",
       "    }\n",
       "\n",
       "    .dataframe thead th {\n",
       "        text-align: right;\n",
       "    }\n",
       "</style>\n",
       "<table border=\"1\" class=\"dataframe\">\n",
       "  <thead>\n",
       "    <tr style=\"text-align: right;\">\n",
       "      <th></th>\n",
       "      <th>PassengerId</th>\n",
       "      <th>Survived</th>\n",
       "      <th>Pclass</th>\n",
       "      <th>Name</th>\n",
       "      <th>Sex</th>\n",
       "      <th>Age</th>\n",
       "      <th>SibSp</th>\n",
       "      <th>Parch</th>\n",
       "      <th>Ticket</th>\n",
       "      <th>Fare</th>\n",
       "      <th>Cabin</th>\n",
       "      <th>Embarked</th>\n",
       "    </tr>\n",
       "  </thead>\n",
       "  <tbody>\n",
       "    <tr>\n",
       "      <th>0</th>\n",
       "      <td>1</td>\n",
       "      <td>0</td>\n",
       "      <td>3</td>\n",
       "      <td>Braund, Mr. Owen Harris</td>\n",
       "      <td>male</td>\n",
       "      <td>22.0</td>\n",
       "      <td>1</td>\n",
       "      <td>0</td>\n",
       "      <td>A/5 21171</td>\n",
       "      <td>7.2500</td>\n",
       "      <td>NaN</td>\n",
       "      <td>S</td>\n",
       "    </tr>\n",
       "    <tr>\n",
       "      <th>1</th>\n",
       "      <td>2</td>\n",
       "      <td>1</td>\n",
       "      <td>1</td>\n",
       "      <td>Cumings, Mrs. John Bradley (Florence Briggs Th...</td>\n",
       "      <td>female</td>\n",
       "      <td>38.0</td>\n",
       "      <td>1</td>\n",
       "      <td>0</td>\n",
       "      <td>PC 17599</td>\n",
       "      <td>71.2833</td>\n",
       "      <td>C85</td>\n",
       "      <td>C</td>\n",
       "    </tr>\n",
       "    <tr>\n",
       "      <th>2</th>\n",
       "      <td>3</td>\n",
       "      <td>1</td>\n",
       "      <td>3</td>\n",
       "      <td>Heikkinen, Miss. Laina</td>\n",
       "      <td>female</td>\n",
       "      <td>26.0</td>\n",
       "      <td>0</td>\n",
       "      <td>0</td>\n",
       "      <td>STON/O2. 3101282</td>\n",
       "      <td>7.9250</td>\n",
       "      <td>NaN</td>\n",
       "      <td>S</td>\n",
       "    </tr>\n",
       "    <tr>\n",
       "      <th>3</th>\n",
       "      <td>4</td>\n",
       "      <td>1</td>\n",
       "      <td>1</td>\n",
       "      <td>Futrelle, Mrs. Jacques Heath (Lily May Peel)</td>\n",
       "      <td>female</td>\n",
       "      <td>35.0</td>\n",
       "      <td>1</td>\n",
       "      <td>0</td>\n",
       "      <td>113803</td>\n",
       "      <td>53.1000</td>\n",
       "      <td>C123</td>\n",
       "      <td>S</td>\n",
       "    </tr>\n",
       "    <tr>\n",
       "      <th>4</th>\n",
       "      <td>5</td>\n",
       "      <td>0</td>\n",
       "      <td>3</td>\n",
       "      <td>Allen, Mr. William Henry</td>\n",
       "      <td>male</td>\n",
       "      <td>35.0</td>\n",
       "      <td>0</td>\n",
       "      <td>0</td>\n",
       "      <td>373450</td>\n",
       "      <td>8.0500</td>\n",
       "      <td>NaN</td>\n",
       "      <td>S</td>\n",
       "    </tr>\n",
       "  </tbody>\n",
       "</table>\n",
       "</div>"
      ],
      "text/plain": [
       "   PassengerId  Survived  Pclass  \\\n",
       "0            1         0       3   \n",
       "1            2         1       1   \n",
       "2            3         1       3   \n",
       "3            4         1       1   \n",
       "4            5         0       3   \n",
       "\n",
       "                                                Name     Sex   Age  SibSp  \\\n",
       "0                            Braund, Mr. Owen Harris    male  22.0      1   \n",
       "1  Cumings, Mrs. John Bradley (Florence Briggs Th...  female  38.0      1   \n",
       "2                             Heikkinen, Miss. Laina  female  26.0      0   \n",
       "3       Futrelle, Mrs. Jacques Heath (Lily May Peel)  female  35.0      1   \n",
       "4                           Allen, Mr. William Henry    male  35.0      0   \n",
       "\n",
       "   Parch            Ticket     Fare Cabin Embarked  \n",
       "0      0         A/5 21171   7.2500   NaN        S  \n",
       "1      0          PC 17599  71.2833   C85        C  \n",
       "2      0  STON/O2. 3101282   7.9250   NaN        S  \n",
       "3      0            113803  53.1000  C123        S  \n",
       "4      0            373450   8.0500   NaN        S  "
      ]
     },
     "execution_count": 5,
     "metadata": {},
     "output_type": "execute_result"
    }
   ],
   "source": [
    "df.head()"
   ]
  },
  {
   "cell_type": "markdown",
   "id": "cfe8563b",
   "metadata": {
    "papermill": {
     "duration": 0.011731,
     "end_time": "2022-12-19T00:38:48.061047",
     "exception": false,
     "start_time": "2022-12-19T00:38:48.049316",
     "status": "completed"
    },
    "tags": []
   },
   "source": [
    "## Explore"
   ]
  },
  {
   "cell_type": "code",
   "execution_count": 6,
   "id": "f22b3f66",
   "metadata": {
    "execution": {
     "iopub.execute_input": "2022-12-19T00:38:48.086014Z",
     "iopub.status.busy": "2022-12-19T00:38:48.085149Z",
     "iopub.status.idle": "2022-12-19T00:38:48.111786Z",
     "shell.execute_reply": "2022-12-19T00:38:48.110169Z"
    },
    "papermill": {
     "duration": 0.042181,
     "end_time": "2022-12-19T00:38:48.114389",
     "exception": false,
     "start_time": "2022-12-19T00:38:48.072208",
     "status": "completed"
    },
    "tags": []
   },
   "outputs": [
    {
     "name": "stdout",
     "output_type": "stream",
     "text": [
      "<class 'pandas.core.frame.DataFrame'>\n",
      "RangeIndex: 891 entries, 0 to 890\n",
      "Data columns (total 12 columns):\n",
      " #   Column       Non-Null Count  Dtype  \n",
      "---  ------       --------------  -----  \n",
      " 0   PassengerId  891 non-null    int64  \n",
      " 1   Survived     891 non-null    int64  \n",
      " 2   Pclass       891 non-null    int64  \n",
      " 3   Name         891 non-null    object \n",
      " 4   Sex          891 non-null    object \n",
      " 5   Age          714 non-null    float64\n",
      " 6   SibSp        891 non-null    int64  \n",
      " 7   Parch        891 non-null    int64  \n",
      " 8   Ticket       891 non-null    object \n",
      " 9   Fare         891 non-null    float64\n",
      " 10  Cabin        204 non-null    object \n",
      " 11  Embarked     889 non-null    object \n",
      "dtypes: float64(2), int64(5), object(5)\n",
      "memory usage: 83.7+ KB\n"
     ]
    }
   ],
   "source": [
    "df.info()"
   ]
  },
  {
   "cell_type": "code",
   "execution_count": 7,
   "id": "4c05ce83",
   "metadata": {
    "execution": {
     "iopub.execute_input": "2022-12-19T00:38:48.139901Z",
     "iopub.status.busy": "2022-12-19T00:38:48.139191Z",
     "iopub.status.idle": "2022-12-19T00:38:48.150015Z",
     "shell.execute_reply": "2022-12-19T00:38:48.148971Z"
    },
    "papermill": {
     "duration": 0.02588,
     "end_time": "2022-12-19T00:38:48.152398",
     "exception": false,
     "start_time": "2022-12-19T00:38:48.126518",
     "status": "completed"
    },
    "tags": []
   },
   "outputs": [
    {
     "data": {
      "text/plain": [
       "PassengerId    0.000000\n",
       "Survived       0.000000\n",
       "Pclass         0.000000\n",
       "Name           0.000000\n",
       "Sex            0.000000\n",
       "Age            0.198653\n",
       "SibSp          0.000000\n",
       "Parch          0.000000\n",
       "Ticket         0.000000\n",
       "Fare           0.000000\n",
       "Cabin          0.771044\n",
       "Embarked       0.002245\n",
       "dtype: float64"
      ]
     },
     "execution_count": 7,
     "metadata": {},
     "output_type": "execute_result"
    }
   ],
   "source": [
    "missing_data=df.isnull().sum()/len(df)\n",
    "missing_data"
   ]
  },
  {
   "cell_type": "code",
   "execution_count": 8,
   "id": "36e63a23",
   "metadata": {
    "execution": {
     "iopub.execute_input": "2022-12-19T00:38:48.177794Z",
     "iopub.status.busy": "2022-12-19T00:38:48.177182Z",
     "iopub.status.idle": "2022-12-19T00:38:48.642313Z",
     "shell.execute_reply": "2022-12-19T00:38:48.640863Z"
    },
    "papermill": {
     "duration": 0.481095,
     "end_time": "2022-12-19T00:38:48.645201",
     "exception": false,
     "start_time": "2022-12-19T00:38:48.164106",
     "status": "completed"
    },
    "tags": []
   },
   "outputs": [
    {
     "data": {
      "image/png": "[encoded data removed]",
      "text/plain": [
       "<Figure size 432x288 with 1 Axes>"
      ]
     },
     "metadata": {
      "needs_background": "light"
     },
     "output_type": "display_data"
    }
   ],
   "source": [
    "sns.heatmap(df.isnull(), cbar=False);"
   ]
  },
  {
   "cell_type": "markdown",
   "id": "a4cef21a",
   "metadata": {
    "papermill": {
     "duration": 0.011309,
     "end_time": "2022-12-19T00:38:48.668229",
     "exception": false,
     "start_time": "2022-12-19T00:38:48.656920",
     "status": "completed"
    },
    "tags": []
   },
   "source": [
    "Three columns have missing data  \n",
    "Age: will be fixed by imputing the mean  \n",
    "Cabin:more than 70% is missing. So it will be dropped  \n",
    "Embarked: can drop the rows\n"
   ]
  },
  {
   "cell_type": "code",
   "execution_count": 9,
   "id": "af800adc",
   "metadata": {
    "execution": {
     "iopub.execute_input": "2022-12-19T00:38:48.693879Z",
     "iopub.status.busy": "2022-12-19T00:38:48.693400Z",
     "iopub.status.idle": "2022-12-19T00:38:49.102538Z",
     "shell.execute_reply": "2022-12-19T00:38:49.101128Z"
    },
    "papermill": {
     "duration": 0.425208,
     "end_time": "2022-12-19T00:38:49.105127",
     "exception": false,
     "start_time": "2022-12-19T00:38:48.679919",
     "status": "completed"
    },
    "tags": []
   },
   "outputs": [
    {
     "data": {
      "image/png": "[encoded data removed]",
      "text/plain": [
       "<Figure size 360x360 with 1 Axes>"
      ]
     },
     "metadata": {
      "needs_background": "light"
     },
     "output_type": "display_data"
    }
   ],
   "source": [
    "sns.catplot(data=df, x=\"Pclass\", y=\"Age\", kind=\"box\");"
   ]
  },
  {
   "cell_type": "code",
   "execution_count": 10,
   "id": "a53f1267",
   "metadata": {
    "execution": {
     "iopub.execute_input": "2022-12-19T00:38:49.131484Z",
     "iopub.status.busy": "2022-12-19T00:38:49.131042Z",
     "iopub.status.idle": "2022-12-19T00:38:49.141699Z",
     "shell.execute_reply": "2022-12-19T00:38:49.140335Z"
    },
    "papermill": {
     "duration": 0.027018,
     "end_time": "2022-12-19T00:38:49.144394",
     "exception": false,
     "start_time": "2022-12-19T00:38:49.117376",
     "status": "completed"
    },
    "tags": []
   },
   "outputs": [
    {
     "data": {
      "text/plain": [
       "Pclass\n",
       "1    37.0\n",
       "2    29.0\n",
       "3    24.0\n",
       "Name: Age, dtype: float64"
      ]
     },
     "execution_count": 10,
     "metadata": {},
     "output_type": "execute_result"
    }
   ],
   "source": [
    "# age of passengers in different classes\n",
    "df.groupby('Pclass')['Age'].median()"
   ]
  },
  {
   "cell_type": "code",
   "execution_count": null,
   "id": "f8ebaaf3",
   "metadata": {
    "papermill": {
     "duration": 0.011938,
     "end_time": "2022-12-19T00:38:49.168550",
     "exception": false,
     "start_time": "2022-12-19T00:38:49.156612",
     "status": "completed"
    },
    "tags": []
   },
   "outputs": [],
   "source": []
  },
  {
   "cell_type": "code",
   "execution_count": 11,
   "id": "c2507d51",
   "metadata": {
    "execution": {
     "iopub.execute_input": "2022-12-19T00:38:49.194501Z",
     "iopub.status.busy": "2022-12-19T00:38:49.194109Z",
     "iopub.status.idle": "2022-12-19T00:38:49.200496Z",
     "shell.execute_reply": "2022-12-19T00:38:49.199273Z"
    },
    "papermill": {
     "duration": 0.022801,
     "end_time": "2022-12-19T00:38:49.203505",
     "exception": false,
     "start_time": "2022-12-19T00:38:49.180704",
     "status": "completed"
    },
    "tags": []
   },
   "outputs": [],
   "source": [
    "def impAge(X):\n",
    "    Age=X[0]\n",
    "    Pclass=X[1]\n",
    "    \n",
    "    if pd.isnull(Age):\n",
    "        if Pclass==1:\n",
    "            return 37\n",
    "        elif Pclass==2:\n",
    "            return 29\n",
    "        else:\n",
    "            return 24\n",
    "    else:\n",
    "        return Age\n",
    "    \n",
    "    "
   ]
  },
  {
   "cell_type": "code",
   "execution_count": 12,
   "id": "df47d10e",
   "metadata": {
    "execution": {
     "iopub.execute_input": "2022-12-19T00:38:49.230473Z",
     "iopub.status.busy": "2022-12-19T00:38:49.229247Z",
     "iopub.status.idle": "2022-12-19T00:38:49.250140Z",
     "shell.execute_reply": "2022-12-19T00:38:49.248642Z"
    },
    "papermill": {
     "duration": 0.037013,
     "end_time": "2022-12-19T00:38:49.252761",
     "exception": false,
     "start_time": "2022-12-19T00:38:49.215748",
     "status": "completed"
    },
    "tags": []
   },
   "outputs": [],
   "source": [
    "df['Age']=df[['Age','Pclass']].apply(impAge, axis=1)"
   ]
  },
  {
   "cell_type": "code",
   "execution_count": 13,
   "id": "e5a4415f",
   "metadata": {
    "execution": {
     "iopub.execute_input": "2022-12-19T00:38:49.280251Z",
     "iopub.status.busy": "2022-12-19T00:38:49.279775Z",
     "iopub.status.idle": "2022-12-19T00:38:49.291871Z",
     "shell.execute_reply": "2022-12-19T00:38:49.290670Z"
    },
    "papermill": {
     "duration": 0.027622,
     "end_time": "2022-12-19T00:38:49.294296",
     "exception": false,
     "start_time": "2022-12-19T00:38:49.266674",
     "status": "completed"
    },
    "tags": []
   },
   "outputs": [
    {
     "data": {
      "text/plain": [
       "PassengerId      0\n",
       "Survived         0\n",
       "Pclass           0\n",
       "Name             0\n",
       "Sex              0\n",
       "Age              0\n",
       "SibSp            0\n",
       "Parch            0\n",
       "Ticket           0\n",
       "Fare             0\n",
       "Cabin          687\n",
       "Embarked         2\n",
       "dtype: int64"
      ]
     },
     "execution_count": 13,
     "metadata": {},
     "output_type": "execute_result"
    }
   ],
   "source": [
    "df.isnull().sum()"
   ]
  },
  {
   "cell_type": "code",
   "execution_count": null,
   "id": "4e3a8dcb",
   "metadata": {
    "papermill": {
     "duration": 0.011212,
     "end_time": "2022-12-19T00:38:49.317674",
     "exception": false,
     "start_time": "2022-12-19T00:38:49.306462",
     "status": "completed"
    },
    "tags": []
   },
   "outputs": [],
   "source": []
  },
  {
   "cell_type": "code",
   "execution_count": 14,
   "id": "0bd111ef",
   "metadata": {
    "execution": {
     "iopub.execute_input": "2022-12-19T00:38:49.343101Z",
     "iopub.status.busy": "2022-12-19T00:38:49.342634Z",
     "iopub.status.idle": "2022-12-19T00:38:49.349743Z",
     "shell.execute_reply": "2022-12-19T00:38:49.348284Z"
    },
    "papermill": {
     "duration": 0.022685,
     "end_time": "2022-12-19T00:38:49.352225",
     "exception": false,
     "start_time": "2022-12-19T00:38:49.329540",
     "status": "completed"
    },
    "tags": []
   },
   "outputs": [],
   "source": [
    "#drop cabin\n",
    "df.drop('Cabin', axis=1, inplace=True)"
   ]
  },
  {
   "cell_type": "code",
   "execution_count": 15,
   "id": "3e55d255",
   "metadata": {
    "execution": {
     "iopub.execute_input": "2022-12-19T00:38:49.377537Z",
     "iopub.status.busy": "2022-12-19T00:38:49.377111Z",
     "iopub.status.idle": "2022-12-19T00:38:49.790712Z",
     "shell.execute_reply": "2022-12-19T00:38:49.789333Z"
    },
    "papermill": {
     "duration": 0.429424,
     "end_time": "2022-12-19T00:38:49.793422",
     "exception": false,
     "start_time": "2022-12-19T00:38:49.363998",
     "status": "completed"
    },
    "tags": []
   },
   "outputs": [
    {
     "data": {
      "image/png": "[encoded data removed]",
      "text/plain": [
       "<Figure size 432x288 with 1 Axes>"
      ]
     },
     "metadata": {
      "needs_background": "light"
     },
     "output_type": "display_data"
    }
   ],
   "source": [
    "sns.heatmap(df.isnull(), cbar=False);"
   ]
  },
  {
   "cell_type": "code",
   "execution_count": 16,
   "id": "938b2828",
   "metadata": {
    "execution": {
     "iopub.execute_input": "2022-12-19T00:38:49.821021Z",
     "iopub.status.busy": "2022-12-19T00:38:49.819749Z",
     "iopub.status.idle": "2022-12-19T00:38:49.826290Z",
     "shell.execute_reply": "2022-12-19T00:38:49.825241Z"
    },
    "papermill": {
     "duration": 0.02253,
     "end_time": "2022-12-19T00:38:49.828569",
     "exception": false,
     "start_time": "2022-12-19T00:38:49.806039",
     "status": "completed"
    },
    "tags": []
   },
   "outputs": [],
   "source": [
    "# drop irrelevant features\n",
    "df.drop(columns=['Name', 'Ticket','PassengerId'], inplace=True)"
   ]
  },
  {
   "cell_type": "code",
   "execution_count": 17,
   "id": "8746a9d9",
   "metadata": {
    "execution": {
     "iopub.execute_input": "2022-12-19T00:38:49.855065Z",
     "iopub.status.busy": "2022-12-19T00:38:49.854642Z",
     "iopub.status.idle": "2022-12-19T00:38:49.871921Z",
     "shell.execute_reply": "2022-12-19T00:38:49.870040Z"
    },
    "papermill": {
     "duration": 0.033694,
     "end_time": "2022-12-19T00:38:49.874640",
     "exception": false,
     "start_time": "2022-12-19T00:38:49.840946",
     "status": "completed"
    },
    "tags": []
   },
   "outputs": [
    {
     "name": "stdout",
     "output_type": "stream",
     "text": [
      "<class 'pandas.core.frame.DataFrame'>\n",
      "Int64Index: 889 entries, 0 to 890\n",
      "Data columns (total 8 columns):\n",
      " #   Column    Non-Null Count  Dtype  \n",
      "---  ------    --------------  -----  \n",
      " 0   Survived  889 non-null    int64  \n",
      " 1   Pclass    889 non-null    int64  \n",
      " 2   Sex       889 non-null    object \n",
      " 3   Age       889 non-null    float64\n",
      " 4   SibSp     889 non-null    int64  \n",
      " 5   Parch     889 non-null    int64  \n",
      " 6   Fare      889 non-null    float64\n",
      " 7   Embarked  889 non-null    object \n",
      "dtypes: float64(2), int64(4), object(2)\n",
      "memory usage: 62.5+ KB\n"
     ]
    }
   ],
   "source": [
    "# drop na\n",
    "df.dropna(inplace=True)\n",
    "df.info()"
   ]
  },
  {
   "cell_type": "code",
   "execution_count": 18,
   "id": "8fb8efb9",
   "metadata": {
    "execution": {
     "iopub.execute_input": "2022-12-19T00:38:49.902270Z",
     "iopub.status.busy": "2022-12-19T00:38:49.901516Z",
     "iopub.status.idle": "2022-12-19T00:38:50.145817Z",
     "shell.execute_reply": "2022-12-19T00:38:50.144476Z"
    },
    "papermill": {
     "duration": 0.261361,
     "end_time": "2022-12-19T00:38:50.148544",
     "exception": false,
     "start_time": "2022-12-19T00:38:49.887183",
     "status": "completed"
    },
    "tags": []
   },
   "outputs": [
    {
     "data": {
      "image/png": "[encoded data removed]",
      "text/plain": [
       "<Figure size 432x288 with 1 Axes>"
      ]
     },
     "metadata": {
      "needs_background": "light"
     },
     "output_type": "display_data"
    }
   ],
   "source": [
    "# fraction of those who survived\n",
    "sns.countplot(data=df, x='Survived', hue='Sex');"
   ]
  },
  {
   "cell_type": "code",
   "execution_count": 19,
   "id": "9493ca1c",
   "metadata": {
    "execution": {
     "iopub.execute_input": "2022-12-19T00:38:50.176083Z",
     "iopub.status.busy": "2022-12-19T00:38:50.175357Z",
     "iopub.status.idle": "2022-12-19T00:38:50.456880Z",
     "shell.execute_reply": "2022-12-19T00:38:50.455316Z"
    },
    "papermill": {
     "duration": 0.298314,
     "end_time": "2022-12-19T00:38:50.459651",
     "exception": false,
     "start_time": "2022-12-19T00:38:50.161337",
     "status": "completed"
    },
    "tags": []
   },
   "outputs": [
    {
     "data": {
      "image/png": "[encoded data removed]",
      "text/plain": [
       "<Figure size 432x288 with 1 Axes>"
      ]
     },
     "metadata": {
      "needs_background": "light"
     },
     "output_type": "display_data"
    }
   ],
   "source": [
    "# fraction of those who survived based on where they embarked\n",
    "sns.countplot(data=df, x='Embarked', hue='Survived');"
   ]
  },
  {
   "cell_type": "code",
   "execution_count": 20,
   "id": "dc47c0e3",
   "metadata": {
    "execution": {
     "iopub.execute_input": "2022-12-19T00:38:50.487408Z",
     "iopub.status.busy": "2022-12-19T00:38:50.487018Z",
     "iopub.status.idle": "2022-12-19T00:38:50.758298Z",
     "shell.execute_reply": "2022-12-19T00:38:50.756750Z"
    },
    "papermill": {
     "duration": 0.288565,
     "end_time": "2022-12-19T00:38:50.761164",
     "exception": false,
     "start_time": "2022-12-19T00:38:50.472599",
     "status": "completed"
    },
    "tags": []
   },
   "outputs": [
    {
     "data": {
      "image/png": "[encoded data removed]",
      "text/plain": [
       "<Figure size 432x288 with 1 Axes>"
      ]
     },
     "metadata": {
      "needs_background": "light"
     },
     "output_type": "display_data"
    }
   ],
   "source": [
    "# fraction of those who survived based on the class\n",
    "sns.countplot(data=df, x='Survived', hue='Pclass');"
   ]
  },
  {
   "cell_type": "code",
   "execution_count": 21,
   "id": "ee7a6253",
   "metadata": {
    "execution": {
     "iopub.execute_input": "2022-12-19T00:38:50.789429Z",
     "iopub.status.busy": "2022-12-19T00:38:50.789003Z",
     "iopub.status.idle": "2022-12-19T00:38:51.340005Z",
     "shell.execute_reply": "2022-12-19T00:38:51.338940Z"
    },
    "papermill": {
     "duration": 0.568157,
     "end_time": "2022-12-19T00:38:51.342284",
     "exception": false,
     "start_time": "2022-12-19T00:38:50.774127",
     "status": "completed"
    },
    "tags": []
   },
   "outputs": [
    {
     "data": {
      "image/png": "[encoded data removed]",
      "text/plain": [
       "<Figure size 432x288 with 2 Axes>"
      ]
     },
     "metadata": {
      "needs_background": "light"
     },
     "output_type": "display_data"
    }
   ],
   "source": [
    "sns.heatmap(df.corr(), annot=True);"
   ]
  },
  {
   "cell_type": "markdown",
   "id": "4fe12d70",
   "metadata": {
    "papermill": {
     "duration": 0.014941,
     "end_time": "2022-12-19T00:38:51.370797",
     "exception": false,
     "start_time": "2022-12-19T00:38:51.355856",
     "status": "completed"
    },
    "tags": []
   },
   "source": [
    "## Split"
   ]
  },
  {
   "cell_type": "code",
   "execution_count": 22,
   "id": "d6240862",
   "metadata": {
    "execution": {
     "iopub.execute_input": "2022-12-19T00:38:51.399527Z",
     "iopub.status.busy": "2022-12-19T00:38:51.399101Z",
     "iopub.status.idle": "2022-12-19T00:38:51.407906Z",
     "shell.execute_reply": "2022-12-19T00:38:51.406028Z"
    },
    "papermill": {
     "duration": 0.026569,
     "end_time": "2022-12-19T00:38:51.410745",
     "exception": false,
     "start_time": "2022-12-19T00:38:51.384176",
     "status": "completed"
    },
    "tags": []
   },
   "outputs": [
    {
     "name": "stdout",
     "output_type": "stream",
     "text": [
      "(889, 7) (889,)\n"
     ]
    }
   ],
   "source": [
    "target='Survived'\n",
    "y=df[target]\n",
    "X=df.drop(target, axis=1)\n",
    "print(X.shape, y.shape)"
   ]
  },
  {
   "cell_type": "code",
   "execution_count": 23,
   "id": "cb51b4fe",
   "metadata": {
    "execution": {
     "iopub.execute_input": "2022-12-19T00:38:51.439482Z",
     "iopub.status.busy": "2022-12-19T00:38:51.439051Z",
     "iopub.status.idle": "2022-12-19T00:38:51.450128Z",
     "shell.execute_reply": "2022-12-19T00:38:51.448077Z"
    },
    "papermill": {
     "duration": 0.028201,
     "end_time": "2022-12-19T00:38:51.452646",
     "exception": false,
     "start_time": "2022-12-19T00:38:51.424445",
     "status": "completed"
    },
    "tags": []
   },
   "outputs": [
    {
     "name": "stdout",
     "output_type": "stream",
     "text": [
      "(800, 7) (800,)\n"
     ]
    }
   ],
   "source": [
    "X_train,X_test, y_train, y_test = train_test_split(\n",
    "   X, y, test_size=0.1, random_state=42\n",
    ")\n",
    "print(X_train.shape, y_train.shape)"
   ]
  },
  {
   "cell_type": "markdown",
   "id": "5121dbad",
   "metadata": {
    "papermill": {
     "duration": 0.013046,
     "end_time": "2022-12-19T00:38:51.479476",
     "exception": false,
     "start_time": "2022-12-19T00:38:51.466430",
     "status": "completed"
    },
    "tags": []
   },
   "source": [
    "# Build Model\n",
    "## Baseline"
   ]
  },
  {
   "cell_type": "code",
   "execution_count": 24,
   "id": "687ee423",
   "metadata": {
    "execution": {
     "iopub.execute_input": "2022-12-19T00:38:51.508222Z",
     "iopub.status.busy": "2022-12-19T00:38:51.507719Z",
     "iopub.status.idle": "2022-12-19T00:38:51.517995Z",
     "shell.execute_reply": "2022-12-19T00:38:51.516582Z"
    },
    "papermill": {
     "duration": 0.027627,
     "end_time": "2022-12-19T00:38:51.520589",
     "exception": false,
     "start_time": "2022-12-19T00:38:51.492962",
     "status": "completed"
    },
    "tags": []
   },
   "outputs": [
    {
     "data": {
      "text/plain": [
       "0.6175478065241845"
      ]
     },
     "execution_count": 24,
     "metadata": {},
     "output_type": "execute_result"
    }
   ],
   "source": [
    "# find the majority class\n",
    "df['Survived'].value_counts(normalize=True).max()"
   ]
  },
  {
   "cell_type": "code",
   "execution_count": 25,
   "id": "dfa1dafe",
   "metadata": {
    "execution": {
     "iopub.execute_input": "2022-12-19T00:38:51.550220Z",
     "iopub.status.busy": "2022-12-19T00:38:51.549766Z",
     "iopub.status.idle": "2022-12-19T00:38:51.554720Z",
     "shell.execute_reply": "2022-12-19T00:38:51.553474Z"
    },
    "papermill": {
     "duration": 0.022802,
     "end_time": "2022-12-19T00:38:51.557150",
     "exception": false,
     "start_time": "2022-12-19T00:38:51.534348",
     "status": "completed"
    },
    "tags": []
   },
   "outputs": [],
   "source": [
    "## Train model\n",
    "model=LogisticRegression(max_iter=1000, verbose=1)\n",
    "oh=OneHotEncoder(use_cat_names=True)"
   ]
  },
  {
   "cell_type": "code",
   "execution_count": 26,
   "id": "9c5accd7",
   "metadata": {
    "execution": {
     "iopub.execute_input": "2022-12-19T00:38:51.585898Z",
     "iopub.status.busy": "2022-12-19T00:38:51.585169Z",
     "iopub.status.idle": "2022-12-19T00:38:51.715240Z",
     "shell.execute_reply": "2022-12-19T00:38:51.713612Z"
    },
    "papermill": {
     "duration": 0.147806,
     "end_time": "2022-12-19T00:38:51.718345",
     "exception": false,
     "start_time": "2022-12-19T00:38:51.570539",
     "status": "completed"
    },
    "tags": []
   },
   "outputs": [
    {
     "name": "stdout",
     "output_type": "stream",
     "text": [
      "RUNNING THE L-BFGS-B CODE\n",
      "\n",
      "           * * *\n",
      "\n",
      "Machine precision = 2.220D-16\n",
      " N =           11     M =           10\n",
      "\n",
      "At X0         0 variables are exactly at the bounds\n",
      "\n",
      "At iterate    0    f=  5.54518D+02    |proj g|=  2.90241D+03\n",
      "\n",
      "At iterate   50    f=  3.62123D+02    |proj g|=  5.40910D+00\n",
      "\n",
      "At iterate  100    f=  3.59106D+02    |proj g|=  4.37946D+01\n",
      "\n",
      "At iterate  150    f=  3.57629D+02    |proj g|=  2.69560D+00\n",
      "\n",
      "           * * *\n",
      "\n",
      "Tit   = total number of iterations\n",
      "Tnf   = total number of function evaluations\n",
      "Tnint = total number of segments explored during Cauchy searches\n",
      "Skip  = number of BFGS updates skipped\n",
      "Nact  = number of active bounds at final generalized Cauchy point\n",
      "Projg = norm of the final projected gradient\n",
      "F     = final function value\n",
      "\n",
      "           * * *\n",
      "\n",
      "   N    Tit     Tnf  Tnint  Skip  Nact     Projg        F\n",
      "   11    189    223      1     0     0   1.060D-01   3.576D+02\n",
      "  F =   357.62701610037635     \n",
      "\n",
      "CONVERGENCE: REL_REDUCTION_OF_F_<=_FACTR*EPSMCH             \n"
     ]
    },
    {
     "name": "stderr",
     "output_type": "stream",
     "text": [
      "[Parallel(n_jobs=1)]: Using backend SequentialBackend with 1 concurrent workers.\n",
      " This problem is unconstrained.\n",
      "[Parallel(n_jobs=1)]: Done   1 out of   1 | elapsed:    0.1s finished\n"
     ]
    },
    {
     "data": {
      "text/plain": [
       "LogisticRegression(max_iter=1000, verbose=1)"
      ]
     },
     "execution_count": 26,
     "metadata": {},
     "output_type": "execute_result"
    }
   ],
   "source": [
    "#convert categorical data\n",
    "X_train=oh.fit_transform(X_train)\n",
    "# fit model\n",
    "model.fit(X_train,y_train)"
   ]
  },
  {
   "cell_type": "code",
   "execution_count": 27,
   "id": "f741cf6e",
   "metadata": {
    "execution": {
     "iopub.execute_input": "2022-12-19T00:38:51.747751Z",
     "iopub.status.busy": "2022-12-19T00:38:51.747339Z",
     "iopub.status.idle": "2022-12-19T00:38:51.758470Z",
     "shell.execute_reply": "2022-12-19T00:38:51.757377Z"
    },
    "papermill": {
     "duration": 0.028905,
     "end_time": "2022-12-19T00:38:51.760894",
     "exception": false,
     "start_time": "2022-12-19T00:38:51.731989",
     "status": "completed"
    },
    "tags": []
   },
   "outputs": [
    {
     "data": {
      "text/plain": [
       "0.80125"
      ]
     },
     "execution_count": 27,
     "metadata": {},
     "output_type": "execute_result"
    }
   ],
   "source": [
    "# accuracy\n",
    "model.score(X_train, y_train)"
   ]
  },
  {
   "cell_type": "markdown",
   "id": "25366877",
   "metadata": {
    "papermill": {
     "duration": 0.013619,
     "end_time": "2022-12-19T00:38:51.788252",
     "exception": false,
     "start_time": "2022-12-19T00:38:51.774633",
     "status": "completed"
    },
    "tags": []
   },
   "source": [
    "# Evaluate"
   ]
  },
  {
   "cell_type": "code",
   "execution_count": 28,
   "id": "9e14a221",
   "metadata": {
    "execution": {
     "iopub.execute_input": "2022-12-19T00:38:51.817937Z",
     "iopub.status.busy": "2022-12-19T00:38:51.817019Z",
     "iopub.status.idle": "2022-12-19T00:38:51.858072Z",
     "shell.execute_reply": "2022-12-19T00:38:51.856625Z"
    },
    "papermill": {
     "duration": 0.05881,
     "end_time": "2022-12-19T00:38:51.860942",
     "exception": false,
     "start_time": "2022-12-19T00:38:51.802132",
     "status": "completed"
    },
    "tags": []
   },
   "outputs": [],
   "source": [
    "# test accuracy\n",
    "X_test=oh.fit_transform(X_test)\n",
    "model.score(X_test, y_test)\n",
    "predictions=model.predict(X_test)"
   ]
  },
  {
   "cell_type": "code",
   "execution_count": 29,
   "id": "4cc1bdbd",
   "metadata": {
    "execution": {
     "iopub.execute_input": "2022-12-19T00:38:51.891027Z",
     "iopub.status.busy": "2022-12-19T00:38:51.890548Z",
     "iopub.status.idle": "2022-12-19T00:38:52.198451Z",
     "shell.execute_reply": "2022-12-19T00:38:52.197080Z"
    },
    "papermill": {
     "duration": 0.326185,
     "end_time": "2022-12-19T00:38:52.201145",
     "exception": false,
     "start_time": "2022-12-19T00:38:51.874960",
     "status": "completed"
    },
    "tags": []
   },
   "outputs": [
    {
     "name": "stdout",
     "output_type": "stream",
     "text": [
      "[[47 11]\n",
      " [ 5 26]]\n"
     ]
    },
    {
     "data": {
      "image/png": "[encoded data removed]",
      "text/plain": [
       "<Figure size 432x288 with 2 Axes>"
      ]
     },
     "metadata": {
      "needs_background": "light"
     },
     "output_type": "display_data"
    }
   ],
   "source": [
    "cm=confusion_matrix(y_test, predictions)\n",
    "print(cm)\n",
    "sns.heatmap(cm, annot=True);"
   ]
  },
  {
   "cell_type": "markdown",
   "id": "037f5e31",
   "metadata": {
    "papermill": {
     "duration": 0.014604,
     "end_time": "2022-12-19T00:38:52.229886",
     "exception": false,
     "start_time": "2022-12-19T00:38:52.215282",
     "status": "completed"
    },
    "tags": []
   },
   "source": []
  },
  {
   "cell_type": "code",
   "execution_count": 30,
   "id": "3b2cf307",
   "metadata": {
    "execution": {
     "iopub.execute_input": "2022-12-19T00:38:52.260042Z",
     "iopub.status.busy": "2022-12-19T00:38:52.259578Z",
     "iopub.status.idle": "2022-12-19T00:38:52.273330Z",
     "shell.execute_reply": "2022-12-19T00:38:52.271596Z"
    },
    "papermill": {
     "duration": 0.032493,
     "end_time": "2022-12-19T00:38:52.276842",
     "exception": false,
     "start_time": "2022-12-19T00:38:52.244349",
     "status": "completed"
    },
    "tags": []
   },
   "outputs": [
    {
     "name": "stdout",
     "output_type": "stream",
     "text": [
      "              precision    recall  f1-score   support\n",
      "\n",
      "           0       0.90      0.81      0.85        58\n",
      "           1       0.70      0.84      0.76        31\n",
      "\n",
      "    accuracy                           0.82        89\n",
      "   macro avg       0.80      0.82      0.81        89\n",
      "weighted avg       0.83      0.82      0.82        89\n",
      "\n"
     ]
    }
   ],
   "source": [
    "print(classification_report(y_test,predictions))"
   ]
  },
  {
   "cell_type": "markdown",
   "id": "0762d319",
   "metadata": {
    "papermill": {
     "duration": 0.013801,
     "end_time": "2022-12-19T00:38:52.305277",
     "exception": false,
     "start_time": "2022-12-19T00:38:52.291476",
     "status": "completed"
    },
    "tags": []
   },
   "source": [
    "## Feature Importance"
   ]
  },
  {
   "cell_type": "code",
   "execution_count": 31,
   "id": "0898956e",
   "metadata": {
    "execution": {
     "iopub.execute_input": "2022-12-19T00:38:52.336372Z",
     "iopub.status.busy": "2022-12-19T00:38:52.335377Z",
     "iopub.status.idle": "2022-12-19T00:38:52.345156Z",
     "shell.execute_reply": "2022-12-19T00:38:52.343869Z"
    },
    "papermill": {
     "duration": 0.028029,
     "end_time": "2022-12-19T00:38:52.347707",
     "exception": false,
     "start_time": "2022-12-19T00:38:52.319678",
     "status": "completed"
    },
    "tags": []
   },
   "outputs": [
    {
     "data": {
      "text/plain": [
       "Sex_male     -1.307102\n",
       "Pclass       -1.192655\n",
       "SibSp        -0.363588\n",
       "Embarked_S   -0.191328\n",
       "Age          -0.044826\n",
       "Parch        -0.040945\n",
       "Embarked_Q   -0.035295\n",
       "Fare          0.001059\n",
       "Embarked_C    0.224092\n",
       "Sex_female    1.304572\n",
       "dtype: float64"
      ]
     },
     "execution_count": 31,
     "metadata": {},
     "output_type": "execute_result"
    }
   ],
   "source": [
    "# features\n",
    "feat= oh.get_feature_names()\n",
    "coef= model.coef_[0]\n",
    "#print(coef)\n",
    "feat_imp=pd.Series(coef, index=feat).sort_values()\n",
    "feat_imp"
   ]
  },
  {
   "cell_type": "code",
   "execution_count": 32,
   "id": "2236eb2f",
   "metadata": {
    "execution": {
     "iopub.execute_input": "2022-12-19T00:38:52.378553Z",
     "iopub.status.busy": "2022-12-19T00:38:52.377692Z",
     "iopub.status.idle": "2022-12-19T00:38:52.713258Z",
     "shell.execute_reply": "2022-12-19T00:38:52.712017Z"
    },
    "papermill": {
     "duration": 0.353995,
     "end_time": "2022-12-19T00:38:52.716020",
     "exception": false,
     "start_time": "2022-12-19T00:38:52.362025",
     "status": "completed"
    },
    "tags": []
   },
   "outputs": [
    {
     "data": {
      "image/png": "[encoded data removed]",
      "text/plain": [
       "<Figure size 432x288 with 1 Axes>"
      ]
     },
     "metadata": {
      "needs_background": "light"
     },
     "output_type": "display_data"
    }
   ],
   "source": [
    "feat_imp.plot(kind='barh')\n",
    "plt.xlabel(\"Gini Importance\")\n",
    "plt.ylabel(\"Feature\")\n",
    "plt.title(\"Best Model Feature Importance\")\n",
    "plt.savefig('logisticreg_importances');"
   ]
  },
  {
   "cell_type": "code",
   "execution_count": 33,
   "id": "18835751",
   "metadata": {
    "execution": {
     "iopub.execute_input": "2022-12-19T00:38:52.747525Z",
     "iopub.status.busy": "2022-12-19T00:38:52.747125Z",
     "iopub.status.idle": "2022-12-19T00:38:52.760225Z",
     "shell.execute_reply": "2022-12-19T00:38:52.759237Z"
    },
    "papermill": {
     "duration": 0.032106,
     "end_time": "2022-12-19T00:38:52.762904",
     "exception": false,
     "start_time": "2022-12-19T00:38:52.730798",
     "status": "completed"
    },
    "tags": []
   },
   "outputs": [],
   "source": [
    "# import submission files\n",
    "sub=pd.read_csv('/kaggle/input/titanic/gender_submission.csv')\n"
   ]
  },
  {
   "cell_type": "code",
   "execution_count": 34,
   "id": "ed3521ff",
   "metadata": {
    "execution": {
     "iopub.execute_input": "2022-12-19T00:38:52.794620Z",
     "iopub.status.busy": "2022-12-19T00:38:52.793705Z",
     "iopub.status.idle": "2022-12-19T00:38:52.821208Z",
     "shell.execute_reply": "2022-12-19T00:38:52.819847Z"
    },
    "papermill": {
     "duration": 0.046261,
     "end_time": "2022-12-19T00:38:52.823775",
     "exception": false,
     "start_time": "2022-12-19T00:38:52.777514",
     "status": "completed"
    },
    "tags": []
   },
   "outputs": [
    {
     "data": {
      "text/plain": [
       "Pclass      0\n",
       "Sex         0\n",
       "Age         0\n",
       "SibSp       0\n",
       "Parch       0\n",
       "Fare        0\n",
       "Embarked    0\n",
       "dtype: int64"
      ]
     },
     "execution_count": 34,
     "metadata": {},
     "output_type": "execute_result"
    }
   ],
   "source": [
    "# import and clean test data\n",
    "test=wrangle('/kaggle/input/titanic/test.csv')\n",
    "test.isnull().sum()\n"
   ]
  },
  {
   "cell_type": "code",
   "execution_count": 35,
   "id": "4e6d4669",
   "metadata": {
    "execution": {
     "iopub.execute_input": "2022-12-19T00:38:52.856527Z",
     "iopub.status.busy": "2022-12-19T00:38:52.856129Z",
     "iopub.status.idle": "2022-12-19T00:38:52.894093Z",
     "shell.execute_reply": "2022-12-19T00:38:52.893017Z"
    },
    "papermill": {
     "duration": 0.057768,
     "end_time": "2022-12-19T00:38:52.896857",
     "exception": false,
     "start_time": "2022-12-19T00:38:52.839089",
     "status": "completed"
    },
    "tags": []
   },
   "outputs": [],
   "source": [
    "test=oh.fit_transform(test)"
   ]
  },
  {
   "cell_type": "code",
   "execution_count": 36,
   "id": "636c67d7",
   "metadata": {
    "execution": {
     "iopub.execute_input": "2022-12-19T00:38:52.928252Z",
     "iopub.status.busy": "2022-12-19T00:38:52.927863Z",
     "iopub.status.idle": "2022-12-19T00:38:52.937301Z",
     "shell.execute_reply": "2022-12-19T00:38:52.936036Z"
    },
    "papermill": {
     "duration": 0.028272,
     "end_time": "2022-12-19T00:38:52.940013",
     "exception": false,
     "start_time": "2022-12-19T00:38:52.911741",
     "status": "completed"
    },
    "tags": []
   },
   "outputs": [
    {
     "name": "stderr",
     "output_type": "stream",
     "text": [
      "/opt/conda/lib/python3.7/site-packages/sklearn/base.py:493: FutureWarning: The feature names should match those that were passed during fit. Starting version 1.2, an error will be raised.\n",
      "Feature names must be in the same order as they were in fit.\n",
      "\n",
      "  warnings.warn(message, FutureWarning)\n"
     ]
    }
   ],
   "source": [
    "y_hat=model.predict(test)"
   ]
  },
  {
   "cell_type": "code",
   "execution_count": null,
   "id": "8c770e59",
   "metadata": {
    "papermill": {
     "duration": 0.014951,
     "end_time": "2022-12-19T00:38:52.970440",
     "exception": false,
     "start_time": "2022-12-19T00:38:52.955489",
     "status": "completed"
    },
    "tags": []
   },
   "outputs": [],
   "source": []
  }
 ],
 "metadata": {
  "kernelspec": {
   "display_name": "Python 3",
   "language": "python",
   "name": "python3"
  },
  "language_info": {
   "codemirror_mode": {
    "name": "ipython",
    "version": 3
   },
   "file_extension": ".py",
   "mimetype": "text/x-python",
   "name": "python",
   "nbconvert_exporter": "python",
   "pygments_lexer": "ipython3",
   "version": "3.7.12"
  },
  "papermill": {
   "default_parameters": {},
   "duration": 17.048968,
   "end_time": "2022-12-19T00:38:53.910512",
   "environment_variables": {},
   "exception": null,
   "input_path": "__notebook__.ipynb",
   "output_path": "__notebook__.ipynb",
   "parameters": {},
   "start_time": "2022-12-19T00:38:36.861544",
   "version": "2.3.4"
  }
 },
 "nbformat": 4,
 "nbformat_minor": 5
}
