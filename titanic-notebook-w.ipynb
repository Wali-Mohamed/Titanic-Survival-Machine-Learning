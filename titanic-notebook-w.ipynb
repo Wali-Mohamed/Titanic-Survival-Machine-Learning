{
 "cells": [
  {
   "cell_type": "code",
   "execution_count": 1,
   "id": "42c420d1",
   "metadata": {
    "_cell_guid": "b1076dfc-b9ad-4769-8c92-a6c4dae69d19",
    "_uuid": "8f2839f25d086af736a60e9eeb907d3b93b6e0e5",
    "execution": {
     "iopub.execute_input": "2022-12-18T22:50:13.830399Z",
     "iopub.status.busy": "2022-12-18T22:50:13.829487Z",
     "iopub.status.idle": "2022-12-18T22:50:13.843362Z",
     "shell.execute_reply": "2022-12-18T22:50:13.842349Z"
    },
    "papermill": {
     "duration": 0.025345,
     "end_time": "2022-12-18T22:50:13.846419",
     "exception": false,
     "start_time": "2022-12-18T22:50:13.821074",
     "status": "completed"
    },
    "tags": []
   },
   "outputs": [
    {
     "name": "stdout",
     "output_type": "stream",
     "text": [
      "/kaggle/input/titanic/train.csv\n",
      "/kaggle/input/titanic/test.csv\n",
      "/kaggle/input/titanic/gender_submission.csv\n"
     ]
    }
   ],
   "source": [
    "# This Python 3 environment comes with many helpful analytics libraries installed\n",
    "# It is defined by the kaggle/python Docker image: https://github.com/kaggle/docker-python\n",
    "# For example, here's several helpful packages to load\n",
    "\n",
    "import numpy as np # linear algebra\n",
    "import pandas as pd # data processing, CSV file I/O (e.g. pd.read_csv)\n",
    "\n",
    "# Input data files are available in the read-only \"../input/\" directory\n",
    "# For example, running this (by clicking run or pressing Shift+Enter) will list all files under the input directory\n",
    "\n",
    "import os\n",
    "for dirname, _, filenames in os.walk('/kaggle/input'):\n",
    "    for filename in filenames:\n",
    "        print(os.path.join(dirname, filename))\n",
    "\n",
    "# You can write up to 20GB to the current directory (/kaggle/working/) that gets preserved as output when you create a version using \"Save & Run All\" \n",
    "# You can also write temporary files to /kaggle/temp/, but they won't be saved outside of the current session"
   ]
  },
  {
   "cell_type": "code",
   "execution_count": 2,
   "id": "928e7394",
   "metadata": {
    "execution": {
     "iopub.execute_input": "2022-12-18T22:50:13.859919Z",
     "iopub.status.busy": "2022-12-18T22:50:13.859562Z",
     "iopub.status.idle": "2022-12-18T22:50:15.023639Z",
     "shell.execute_reply": "2022-12-18T22:50:15.022824Z"
    },
    "papermill": {
     "duration": 1.17321,
     "end_time": "2022-12-18T22:50:15.026156",
     "exception": false,
     "start_time": "2022-12-18T22:50:13.852946",
     "status": "completed"
    },
    "tags": []
   },
   "outputs": [],
   "source": [
    "\n",
    "import matplotlib.pyplot as plt\n",
    "import seaborn as sns\n",
    "from category_encoders import OneHotEncoder\n",
    "from sklearn.linear_model import LogisticRegression"
   ]
  },
  {
   "cell_type": "markdown",
   "id": "3ba3c05f",
   "metadata": {
    "papermill": {
     "duration": 0.005139,
     "end_time": "2022-12-18T22:50:15.036733",
     "exception": false,
     "start_time": "2022-12-18T22:50:15.031594",
     "status": "completed"
    },
    "tags": []
   },
   "source": [
    "# Prepare Data"
   ]
  },
  {
   "cell_type": "markdown",
   "id": "880a32bd",
   "metadata": {
    "papermill": {
     "duration": 0.005066,
     "end_time": "2022-12-18T22:50:15.047313",
     "exception": false,
     "start_time": "2022-12-18T22:50:15.042247",
     "status": "completed"
    },
    "tags": []
   },
   "source": [
    "## Import"
   ]
  },
  {
   "cell_type": "code",
   "execution_count": 3,
   "id": "c1d361ce",
   "metadata": {
    "execution": {
     "iopub.execute_input": "2022-12-18T22:50:15.058990Z",
     "iopub.status.busy": "2022-12-18T22:50:15.058640Z",
     "iopub.status.idle": "2022-12-18T22:50:15.074817Z",
     "shell.execute_reply": "2022-12-18T22:50:15.073906Z"
    },
    "papermill": {
     "duration": 0.024717,
     "end_time": "2022-12-18T22:50:15.077126",
     "exception": false,
     "start_time": "2022-12-18T22:50:15.052409",
     "status": "completed"
    },
    "tags": []
   },
   "outputs": [],
   "source": [
    "df=pd.read_csv('/kaggle/input/titanic/train.csv')\n"
   ]
  },
  {
   "cell_type": "code",
   "execution_count": 4,
   "id": "1a1fa474",
   "metadata": {
    "execution": {
     "iopub.execute_input": "2022-12-18T22:50:15.089170Z",
     "iopub.status.busy": "2022-12-18T22:50:15.088796Z",
     "iopub.status.idle": "2022-12-18T22:50:15.110057Z",
     "shell.execute_reply": "2022-12-18T22:50:15.109045Z"
    },
    "papermill": {
     "duration": 0.029975,
     "end_time": "2022-12-18T22:50:15.112437",
     "exception": false,
     "start_time": "2022-12-18T22:50:15.082462",
     "status": "completed"
    },
    "tags": []
   },
   "outputs": [
    {
     "data": {
      "text/html": [
       "<div>\n",
       "<style scoped>\n",
       "    .dataframe tbody tr th:only-of-type {\n",
       "        vertical-align: middle;\n",
       "    }\n",
       "\n",
       "    .dataframe tbody tr th {\n",
       "        vertical-align: top;\n",
       "    }\n",
       "\n",
       "    .dataframe thead th {\n",
       "        text-align: right;\n",
       "    }\n",
       "</style>\n",
       "<table border=\"1\" class=\"dataframe\">\n",
       "  <thead>\n",
       "    <tr style=\"text-align: right;\">\n",
       "      <th></th>\n",
       "      <th>PassengerId</th>\n",
       "      <th>Survived</th>\n",
       "      <th>Pclass</th>\n",
       "      <th>Name</th>\n",
       "      <th>Sex</th>\n",
       "      <th>Age</th>\n",
       "      <th>SibSp</th>\n",
       "      <th>Parch</th>\n",
       "      <th>Ticket</th>\n",
       "      <th>Fare</th>\n",
       "      <th>Cabin</th>\n",
       "      <th>Embarked</th>\n",
       "    </tr>\n",
       "  </thead>\n",
       "  <tbody>\n",
       "    <tr>\n",
       "      <th>0</th>\n",
       "      <td>1</td>\n",
       "      <td>0</td>\n",
       "      <td>3</td>\n",
       "      <td>Braund, Mr. Owen Harris</td>\n",
       "      <td>male</td>\n",
       "      <td>22.0</td>\n",
       "      <td>1</td>\n",
       "      <td>0</td>\n",
       "      <td>A/5 21171</td>\n",
       "      <td>7.2500</td>\n",
       "      <td>NaN</td>\n",
       "      <td>S</td>\n",
       "    </tr>\n",
       "    <tr>\n",
       "      <th>1</th>\n",
       "      <td>2</td>\n",
       "      <td>1</td>\n",
       "      <td>1</td>\n",
       "      <td>Cumings, Mrs. John Bradley (Florence Briggs Th...</td>\n",
       "      <td>female</td>\n",
       "      <td>38.0</td>\n",
       "      <td>1</td>\n",
       "      <td>0</td>\n",
       "      <td>PC 17599</td>\n",
       "      <td>71.2833</td>\n",
       "      <td>C85</td>\n",
       "      <td>C</td>\n",
       "    </tr>\n",
       "    <tr>\n",
       "      <th>2</th>\n",
       "      <td>3</td>\n",
       "      <td>1</td>\n",
       "      <td>3</td>\n",
       "      <td>Heikkinen, Miss. Laina</td>\n",
       "      <td>female</td>\n",
       "      <td>26.0</td>\n",
       "      <td>0</td>\n",
       "      <td>0</td>\n",
       "      <td>STON/O2. 3101282</td>\n",
       "      <td>7.9250</td>\n",
       "      <td>NaN</td>\n",
       "      <td>S</td>\n",
       "    </tr>\n",
       "    <tr>\n",
       "      <th>3</th>\n",
       "      <td>4</td>\n",
       "      <td>1</td>\n",
       "      <td>1</td>\n",
       "      <td>Futrelle, Mrs. Jacques Heath (Lily May Peel)</td>\n",
       "      <td>female</td>\n",
       "      <td>35.0</td>\n",
       "      <td>1</td>\n",
       "      <td>0</td>\n",
       "      <td>113803</td>\n",
       "      <td>53.1000</td>\n",
       "      <td>C123</td>\n",
       "      <td>S</td>\n",
       "    </tr>\n",
       "    <tr>\n",
       "      <th>4</th>\n",
       "      <td>5</td>\n",
       "      <td>0</td>\n",
       "      <td>3</td>\n",
       "      <td>Allen, Mr. William Henry</td>\n",
       "      <td>male</td>\n",
       "      <td>35.0</td>\n",
       "      <td>0</td>\n",
       "      <td>0</td>\n",
       "      <td>373450</td>\n",
       "      <td>8.0500</td>\n",
       "      <td>NaN</td>\n",
       "      <td>S</td>\n",
       "    </tr>\n",
       "  </tbody>\n",
       "</table>\n",
       "</div>"
      ],
      "text/plain": [
       "   PassengerId  Survived  Pclass  \\\n",
       "0            1         0       3   \n",
       "1            2         1       1   \n",
       "2            3         1       3   \n",
       "3            4         1       1   \n",
       "4            5         0       3   \n",
       "\n",
       "                                                Name     Sex   Age  SibSp  \\\n",
       "0                            Braund, Mr. Owen Harris    male  22.0      1   \n",
       "1  Cumings, Mrs. John Bradley (Florence Briggs Th...  female  38.0      1   \n",
       "2                             Heikkinen, Miss. Laina  female  26.0      0   \n",
       "3       Futrelle, Mrs. Jacques Heath (Lily May Peel)  female  35.0      1   \n",
       "4                           Allen, Mr. William Henry    male  35.0      0   \n",
       "\n",
       "   Parch            Ticket     Fare Cabin Embarked  \n",
       "0      0         A/5 21171   7.2500   NaN        S  \n",
       "1      0          PC 17599  71.2833   C85        C  \n",
       "2      0  STON/O2. 3101282   7.9250   NaN        S  \n",
       "3      0            113803  53.1000  C123        S  \n",
       "4      0            373450   8.0500   NaN        S  "
      ]
     },
     "execution_count": 4,
     "metadata": {},
     "output_type": "execute_result"
    }
   ],
   "source": [
    "df.head()"
   ]
  },
  {
   "cell_type": "markdown",
   "id": "2d16b391",
   "metadata": {
    "papermill": {
     "duration": 0.005322,
     "end_time": "2022-12-18T22:50:15.123454",
     "exception": false,
     "start_time": "2022-12-18T22:50:15.118132",
     "status": "completed"
    },
    "tags": []
   },
   "source": [
    "## Explore"
   ]
  },
  {
   "cell_type": "code",
   "execution_count": 5,
   "id": "79640b8f",
   "metadata": {
    "execution": {
     "iopub.execute_input": "2022-12-18T22:50:15.137776Z",
     "iopub.status.busy": "2022-12-18T22:50:15.137184Z",
     "iopub.status.idle": "2022-12-18T22:50:15.158634Z",
     "shell.execute_reply": "2022-12-18T22:50:15.157352Z"
    },
    "papermill": {
     "duration": 0.03189,
     "end_time": "2022-12-18T22:50:15.161030",
     "exception": false,
     "start_time": "2022-12-18T22:50:15.129140",
     "status": "completed"
    },
    "tags": []
   },
   "outputs": [
    {
     "name": "stdout",
     "output_type": "stream",
     "text": [
      "<class 'pandas.core.frame.DataFrame'>\n",
      "RangeIndex: 891 entries, 0 to 890\n",
      "Data columns (total 12 columns):\n",
      " #   Column       Non-Null Count  Dtype  \n",
      "---  ------       --------------  -----  \n",
      " 0   PassengerId  891 non-null    int64  \n",
      " 1   Survived     891 non-null    int64  \n",
      " 2   Pclass       891 non-null    int64  \n",
      " 3   Name         891 non-null    object \n",
      " 4   Sex          891 non-null    object \n",
      " 5   Age          714 non-null    float64\n",
      " 6   SibSp        891 non-null    int64  \n",
      " 7   Parch        891 non-null    int64  \n",
      " 8   Ticket       891 non-null    object \n",
      " 9   Fare         891 non-null    float64\n",
      " 10  Cabin        204 non-null    object \n",
      " 11  Embarked     889 non-null    object \n",
      "dtypes: float64(2), int64(5), object(5)\n",
      "memory usage: 83.7+ KB\n"
     ]
    }
   ],
   "source": [
    "df.info()"
   ]
  },
  {
   "cell_type": "code",
   "execution_count": 6,
   "id": "60105198",
   "metadata": {
    "execution": {
     "iopub.execute_input": "2022-12-18T22:50:15.174635Z",
     "iopub.status.busy": "2022-12-18T22:50:15.173829Z",
     "iopub.status.idle": "2022-12-18T22:50:15.182761Z",
     "shell.execute_reply": "2022-12-18T22:50:15.181792Z"
    },
    "papermill": {
     "duration": 0.01792,
     "end_time": "2022-12-18T22:50:15.184854",
     "exception": false,
     "start_time": "2022-12-18T22:50:15.166934",
     "status": "completed"
    },
    "tags": []
   },
   "outputs": [
    {
     "data": {
      "text/plain": [
       "PassengerId    0.000000\n",
       "Survived       0.000000\n",
       "Pclass         0.000000\n",
       "Name           0.000000\n",
       "Sex            0.000000\n",
       "Age            0.198653\n",
       "SibSp          0.000000\n",
       "Parch          0.000000\n",
       "Ticket         0.000000\n",
       "Fare           0.000000\n",
       "Cabin          0.771044\n",
       "Embarked       0.002245\n",
       "dtype: float64"
      ]
     },
     "execution_count": 6,
     "metadata": {},
     "output_type": "execute_result"
    }
   ],
   "source": [
    "missing_data=df.isnull().sum()/len(df)\n",
    "missing_data"
   ]
  },
  {
   "cell_type": "code",
   "execution_count": 7,
   "id": "8f02851f",
   "metadata": {
    "execution": {
     "iopub.execute_input": "2022-12-18T22:50:15.197132Z",
     "iopub.status.busy": "2022-12-18T22:50:15.196807Z",
     "iopub.status.idle": "2022-12-18T22:50:15.554289Z",
     "shell.execute_reply": "2022-12-18T22:50:15.553272Z"
    },
    "papermill": {
     "duration": 0.370746,
     "end_time": "2022-12-18T22:50:15.561286",
     "exception": false,
     "start_time": "2022-12-18T22:50:15.190540",
     "status": "completed"
    },
    "tags": []
   },
   "outputs": [
    {
     "data": {
      "image/png": "[encoded data removed]",
      "text/plain": [
       "<Figure size 432x288 with 1 Axes>"
      ]
     },
     "metadata": {
      "needs_background": "light"
     },
     "output_type": "display_data"
    }
   ],
   "source": [
    "sns.heatmap(df.isnull(), cbar=False);"
   ]
  },
  {
   "cell_type": "markdown",
   "id": "1f7bba04",
   "metadata": {
    "papermill": {
     "duration": 0.005977,
     "end_time": "2022-12-18T22:50:15.574124",
     "exception": false,
     "start_time": "2022-12-18T22:50:15.568147",
     "status": "completed"
    },
    "tags": []
   },
   "source": [
    "Three columns have missing data  \n",
    "Age: will be fixed by imputing the mean  \n",
    "Cabin:more than 70% is missing. So it will be dropped  \n",
    "Embarked: can drop the rows\n"
   ]
  },
  {
   "cell_type": "code",
   "execution_count": 8,
   "id": "ce806b2b",
   "metadata": {
    "execution": {
     "iopub.execute_input": "2022-12-18T22:50:15.588278Z",
     "iopub.status.busy": "2022-12-18T22:50:15.587615Z",
     "iopub.status.idle": "2022-12-18T22:50:15.880446Z",
     "shell.execute_reply": "2022-12-18T22:50:15.879673Z"
    },
    "papermill": {
     "duration": 0.302499,
     "end_time": "2022-12-18T22:50:15.882773",
     "exception": false,
     "start_time": "2022-12-18T22:50:15.580274",
     "status": "completed"
    },
    "tags": []
   },
   "outputs": [
    {
     "data": {
      "image/png": "[encoded data removed]",
      "text/plain": [
       "<Figure size 360x360 with 1 Axes>"
      ]
     },
     "metadata": {
      "needs_background": "light"
     },
     "output_type": "display_data"
    }
   ],
   "source": [
    "sns.catplot(data=df, x=\"Pclass\", y=\"Age\", kind=\"box\");"
   ]
  },
  {
   "cell_type": "code",
   "execution_count": 9,
   "id": "682d9f6b",
   "metadata": {
    "execution": {
     "iopub.execute_input": "2022-12-18T22:50:15.897186Z",
     "iopub.status.busy": "2022-12-18T22:50:15.896820Z",
     "iopub.status.idle": "2022-12-18T22:50:15.906780Z",
     "shell.execute_reply": "2022-12-18T22:50:15.906059Z"
    },
    "papermill": {
     "duration": 0.019184,
     "end_time": "2022-12-18T22:50:15.908704",
     "exception": false,
     "start_time": "2022-12-18T22:50:15.889520",
     "status": "completed"
    },
    "tags": []
   },
   "outputs": [
    {
     "data": {
      "text/plain": [
       "Pclass\n",
       "1    37.0\n",
       "2    29.0\n",
       "3    24.0\n",
       "Name: Age, dtype: float64"
      ]
     },
     "execution_count": 9,
     "metadata": {},
     "output_type": "execute_result"
    }
   ],
   "source": [
    "# age of passengers in different classes\n",
    "df.groupby('Pclass')['Age'].median()"
   ]
  },
  {
   "cell_type": "code",
   "execution_count": null,
   "id": "a7865a06",
   "metadata": {
    "papermill": {
     "duration": 0.006376,
     "end_time": "2022-12-18T22:50:15.921548",
     "exception": false,
     "start_time": "2022-12-18T22:50:15.915172",
     "status": "completed"
    },
    "tags": []
   },
   "outputs": [],
   "source": []
  },
  {
   "cell_type": "code",
   "execution_count": 10,
   "id": "8c0fbd27",
   "metadata": {
    "execution": {
     "iopub.execute_input": "2022-12-18T22:50:15.935626Z",
     "iopub.status.busy": "2022-12-18T22:50:15.934978Z",
     "iopub.status.idle": "2022-12-18T22:50:15.940744Z",
     "shell.execute_reply": "2022-12-18T22:50:15.940063Z"
    },
    "papermill": {
     "duration": 0.014936,
     "end_time": "2022-12-18T22:50:15.942778",
     "exception": false,
     "start_time": "2022-12-18T22:50:15.927842",
     "status": "completed"
    },
    "tags": []
   },
   "outputs": [],
   "source": [
    "def impAge(X):\n",
    "    Age=X[0]\n",
    "    Pclass=X[1]\n",
    "    \n",
    "    if pd.isnull(Age):\n",
    "        if Pclass==1:\n",
    "            return 37\n",
    "        elif Pclass==2:\n",
    "            return 29\n",
    "        else:\n",
    "            return 24\n",
    "    else:\n",
    "        return Age\n",
    "    \n",
    "    "
   ]
  },
  {
   "cell_type": "code",
   "execution_count": 11,
   "id": "4a1679ce",
   "metadata": {
    "execution": {
     "iopub.execute_input": "2022-12-18T22:50:15.957069Z",
     "iopub.status.busy": "2022-12-18T22:50:15.956431Z",
     "iopub.status.idle": "2022-12-18T22:50:15.973137Z",
     "shell.execute_reply": "2022-12-18T22:50:15.972438Z"
    },
    "papermill": {
     "duration": 0.026109,
     "end_time": "2022-12-18T22:50:15.975211",
     "exception": false,
     "start_time": "2022-12-18T22:50:15.949102",
     "status": "completed"
    },
    "tags": []
   },
   "outputs": [],
   "source": [
    "df['Age']=df[['Age','Pclass']].apply(impAge, axis=1)"
   ]
  },
  {
   "cell_type": "code",
   "execution_count": 12,
   "id": "62473572",
   "metadata": {
    "execution": {
     "iopub.execute_input": "2022-12-18T22:50:15.989714Z",
     "iopub.status.busy": "2022-12-18T22:50:15.989068Z",
     "iopub.status.idle": "2022-12-18T22:50:15.997485Z",
     "shell.execute_reply": "2022-12-18T22:50:15.996752Z"
    },
    "papermill": {
     "duration": 0.017845,
     "end_time": "2022-12-18T22:50:15.999457",
     "exception": false,
     "start_time": "2022-12-18T22:50:15.981612",
     "status": "completed"
    },
    "tags": []
   },
   "outputs": [
    {
     "data": {
      "text/plain": [
       "PassengerId      0\n",
       "Survived         0\n",
       "Pclass           0\n",
       "Name             0\n",
       "Sex              0\n",
       "Age              0\n",
       "SibSp            0\n",
       "Parch            0\n",
       "Ticket           0\n",
       "Fare             0\n",
       "Cabin          687\n",
       "Embarked         2\n",
       "dtype: int64"
      ]
     },
     "execution_count": 12,
     "metadata": {},
     "output_type": "execute_result"
    }
   ],
   "source": [
    "df.isnull().sum()"
   ]
  },
  {
   "cell_type": "code",
   "execution_count": null,
   "id": "663d99a6",
   "metadata": {
    "papermill": {
     "duration": 0.006346,
     "end_time": "2022-12-18T22:50:16.012273",
     "exception": false,
     "start_time": "2022-12-18T22:50:16.005927",
     "status": "completed"
    },
    "tags": []
   },
   "outputs": [],
   "source": []
  },
  {
   "cell_type": "code",
   "execution_count": 13,
   "id": "148c61f9",
   "metadata": {
    "execution": {
     "iopub.execute_input": "2022-12-18T22:50:16.026912Z",
     "iopub.status.busy": "2022-12-18T22:50:16.026349Z",
     "iopub.status.idle": "2022-12-18T22:50:16.031568Z",
     "shell.execute_reply": "2022-12-18T22:50:16.030934Z"
    },
    "papermill": {
     "duration": 0.014987,
     "end_time": "2022-12-18T22:50:16.033535",
     "exception": false,
     "start_time": "2022-12-18T22:50:16.018548",
     "status": "completed"
    },
    "tags": []
   },
   "outputs": [],
   "source": [
    "#drop cabin\n",
    "df.drop('Cabin', axis=1, inplace=True)"
   ]
  },
  {
   "cell_type": "code",
   "execution_count": 14,
   "id": "2e34ac04",
   "metadata": {
    "execution": {
     "iopub.execute_input": "2022-12-18T22:50:16.048225Z",
     "iopub.status.busy": "2022-12-18T22:50:16.047881Z",
     "iopub.status.idle": "2022-12-18T22:50:16.372874Z",
     "shell.execute_reply": "2022-12-18T22:50:16.371777Z"
    },
    "papermill": {
     "duration": 0.335119,
     "end_time": "2022-12-18T22:50:16.375118",
     "exception": false,
     "start_time": "2022-12-18T22:50:16.039999",
     "status": "completed"
    },
    "tags": []
   },
   "outputs": [
    {
     "data": {
      "image/png": "[encoded data removed]",
      "text/plain": [
       "<Figure size 432x288 with 1 Axes>"
      ]
     },
     "metadata": {
      "needs_background": "light"
     },
     "output_type": "display_data"
    }
   ],
   "source": [
    "sns.heatmap(df.isnull(), cbar=False);"
   ]
  },
  {
   "cell_type": "code",
   "execution_count": 15,
   "id": "dfb20465",
   "metadata": {
    "execution": {
     "iopub.execute_input": "2022-12-18T22:50:16.390610Z",
     "iopub.status.busy": "2022-12-18T22:50:16.390262Z",
     "iopub.status.idle": "2022-12-18T22:50:16.395589Z",
     "shell.execute_reply": "2022-12-18T22:50:16.394612Z"
    },
    "papermill": {
     "duration": 0.015557,
     "end_time": "2022-12-18T22:50:16.397667",
     "exception": false,
     "start_time": "2022-12-18T22:50:16.382110",
     "status": "completed"
    },
    "tags": []
   },
   "outputs": [],
   "source": [
    "# drop irrelevant features\n",
    "df.drop(columns=['Name', 'Ticket','PassengerId'], inplace=True)"
   ]
  },
  {
   "cell_type": "code",
   "execution_count": 16,
   "id": "e3c03be2",
   "metadata": {
    "execution": {
     "iopub.execute_input": "2022-12-18T22:50:16.413511Z",
     "iopub.status.busy": "2022-12-18T22:50:16.413165Z",
     "iopub.status.idle": "2022-12-18T22:50:16.428213Z",
     "shell.execute_reply": "2022-12-18T22:50:16.426803Z"
    },
    "papermill": {
     "duration": 0.026024,
     "end_time": "2022-12-18T22:50:16.430698",
     "exception": false,
     "start_time": "2022-12-18T22:50:16.404674",
     "status": "completed"
    },
    "tags": []
   },
   "outputs": [
    {
     "name": "stdout",
     "output_type": "stream",
     "text": [
      "<class 'pandas.core.frame.DataFrame'>\n",
      "Int64Index: 889 entries, 0 to 890\n",
      "Data columns (total 8 columns):\n",
      " #   Column    Non-Null Count  Dtype  \n",
      "---  ------    --------------  -----  \n",
      " 0   Survived  889 non-null    int64  \n",
      " 1   Pclass    889 non-null    int64  \n",
      " 2   Sex       889 non-null    object \n",
      " 3   Age       889 non-null    float64\n",
      " 4   SibSp     889 non-null    int64  \n",
      " 5   Parch     889 non-null    int64  \n",
      " 6   Fare      889 non-null    float64\n",
      " 7   Embarked  889 non-null    object \n",
      "dtypes: float64(2), int64(4), object(2)\n",
      "memory usage: 62.5+ KB\n"
     ]
    }
   ],
   "source": [
    "# drop na\n",
    "df.dropna(inplace=True)\n",
    "df.info()"
   ]
  },
  {
   "cell_type": "code",
   "execution_count": 17,
   "id": "bcb6580e",
   "metadata": {
    "execution": {
     "iopub.execute_input": "2022-12-18T22:50:16.446594Z",
     "iopub.status.busy": "2022-12-18T22:50:16.446247Z",
     "iopub.status.idle": "2022-12-18T22:50:16.897789Z",
     "shell.execute_reply": "2022-12-18T22:50:16.896676Z"
    },
    "papermill": {
     "duration": 0.462409,
     "end_time": "2022-12-18T22:50:16.900215",
     "exception": false,
     "start_time": "2022-12-18T22:50:16.437806",
     "status": "completed"
    },
    "tags": []
   },
   "outputs": [
    {
     "data": {
      "image/png": "[encoded data removed]",
      "text/plain": [
       "<Figure size 432x288 with 2 Axes>"
      ]
     },
     "metadata": {
      "needs_background": "light"
     },
     "output_type": "display_data"
    }
   ],
   "source": [
    "sns.heatmap(df.corr(), annot=True);"
   ]
  },
  {
   "cell_type": "markdown",
   "id": "1e22cead",
   "metadata": {
    "papermill": {
     "duration": 0.007289,
     "end_time": "2022-12-18T22:50:16.915452",
     "exception": false,
     "start_time": "2022-12-18T22:50:16.908163",
     "status": "completed"
    },
    "tags": []
   },
   "source": [
    "## Split"
   ]
  },
  {
   "cell_type": "code",
   "execution_count": null,
   "id": "e819cb24",
   "metadata": {
    "papermill": {
     "duration": 0.007275,
     "end_time": "2022-12-18T22:50:16.930156",
     "exception": false,
     "start_time": "2022-12-18T22:50:16.922881",
     "status": "completed"
    },
    "tags": []
   },
   "outputs": [],
   "source": []
  }
 ],
 "metadata": {
  "kernelspec": {
   "display_name": "Python 3",
   "language": "python",
   "name": "python3"
  },
  "language_info": {
   "codemirror_mode": {
    "name": "ipython",
    "version": 3
   },
   "file_extension": ".py",
   "mimetype": "text/x-python",
   "name": "python",
   "nbconvert_exporter": "python",
   "pygments_lexer": "ipython3",
   "version": "3.7.12"
  },
  "papermill": {
   "default_parameters": {},
   "duration": 11.261392,
   "end_time": "2022-12-18T22:50:17.660498",
   "environment_variables": {},
   "exception": null,
   "input_path": "__notebook__.ipynb",
   "output_path": "__notebook__.ipynb",
   "parameters": {},
   "start_time": "2022-12-18T22:50:06.399106",
   "version": "2.3.4"
  }
 },
 "nbformat": 4,
 "nbformat_minor": 5
}
